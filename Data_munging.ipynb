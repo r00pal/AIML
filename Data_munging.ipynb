{
  "nbformat": 4,
  "nbformat_minor": 0,
  "metadata": {
    "colab": {
      "name": "Data_munging.ipynb",
      "version": "0.3.2",
      "provenance": [],
      "collapsed_sections": [],
      "include_colab_link": true
    },
    "kernelspec": {
      "name": "python3",
      "display_name": "Python 3"
    }
  },
  "cells": [
    {
      "cell_type": "markdown",
      "metadata": {
        "id": "view-in-github",
        "colab_type": "text"
      },
      "source": [
        "<a href=\"https://colab.research.google.com/github/roopalJazz/AIML/blob/master/Data_munging.ipynb\" target=\"_parent\"><img src=\"https://colab.research.google.com/assets/colab-badge.svg\" alt=\"Open In Colab\"/></a>"
      ]
    },
    {
      "metadata": {
        "id": "GE7KMu03FYG7",
        "colab_type": "text"
      },
      "cell_type": "markdown",
      "source": [
        "# Advanced Certification in AIML\n",
        "## A Program by IIIT-H and TalentSprint"
      ]
    },
    {
      "metadata": {
        "id": "8b_K7sClFckq",
        "colab_type": "text"
      },
      "cell_type": "markdown",
      "source": [
        "### Setup Steps"
      ]
    },
    {
      "metadata": {
        "id": "7DyieCzoGrWG",
        "colab_type": "text"
      },
      "cell_type": "markdown",
      "source": [
        "The objective of this experiment is to perform data munging.\n",
        "\n",
        "### Data Description:\n",
        "\n",
        "* The dataset is made up of 1016810 rows and 7 columns. \n",
        "\n",
        "* Each line is the data of one student\n",
        "\n",
        "* The seven columns correspond to \n",
        "   - Region Code\n",
        "   - student id\n",
        "   - English marks\n",
        "   - First Language marks\n",
        "   - Math marks\n",
        "   - Science marks\n",
        "   - Social marks\n",
        "* The marks for the students absent  for the exam are sometimes denoted by 'A', sometimes denoted by ' AA', sometimes denoted by 'AAA' and sometimes denoted by 'G'\n",
        "\n",
        "* If the student is not marked as absent but no marks in a subject then he is a supplementary candidate."
      ]
    },
    {
      "metadata": {
        "id": "xskZbRVkLHD9",
        "colab_type": "code",
        "colab": {}
      },
      "cell_type": "code",
      "source": [
        "Dataset = \"SSLC_data.txt\""
      ],
      "execution_count": 0,
      "outputs": []
    },
    {
      "metadata": {
        "id": "oIBDNopcKz5F",
        "colab_type": "text"
      },
      "cell_type": "markdown",
      "source": [
        "#### Exercise 0 :\n",
        "\n",
        "Load the data using pandas"
      ]
    },
    {
      "metadata": {
        "id": "nIbUbnmoK9to",
        "colab_type": "code",
        "colab": {
          "base_uri": "https://localhost:8080/",
          "height": 138
        },
        "outputId": "e5c8e873-7225-4225-dd3e-c19403cb95ac"
      },
      "cell_type": "code",
      "source": [
        "#### Your Code Here\n",
        "import pandas as pd\n",
        "df = pd.read_csv(Dataset,sep=';',header = None)\n",
        "print (df.head())\n",
        "print (len(df))"
      ],
      "execution_count": 5,
      "outputs": [
        {
          "output_type": "stream",
          "text": [
            "   0      1    2    3    4    5    6\n",
            "0  1  10001  053  036   28   16   44\n",
            "1  1  10002  058  037   42   35   40\n",
            "2  1  10003  072  056   71   55   70\n",
            "3  1  10004  087  064   83   58   65\n",
            "4  1  10005  059  045   50   35   48\n",
            "1016810\n"
          ],
          "name": "stdout"
        }
      ]
    },
    {
      "metadata": {
        "id": "wLcx8LeUJfJq",
        "colab_type": "text"
      },
      "cell_type": "markdown",
      "source": [
        "#### Exercise 1 :\n",
        "\n",
        "Drop all the supplementary candidates from the dataset"
      ]
    },
    {
      "metadata": {
        "id": "EnjXfohrKdIx",
        "colab_type": "code",
        "colab": {
          "base_uri": "https://localhost:8080/",
          "height": 35
        },
        "outputId": "4bc931c4-df06-4681-a464-ac536a04a907"
      },
      "cell_type": "code",
      "source": [
        "#### Your Code Here\n",
        "df = df.dropna()\n",
        "print (len(df))"
      ],
      "execution_count": 6,
      "outputs": [
        {
          "output_type": "stream",
          "text": [
            "936984\n"
          ],
          "name": "stdout"
        }
      ]
    },
    {
      "metadata": {
        "id": "omQaBoJDKfbf",
        "colab_type": "text"
      },
      "cell_type": "markdown",
      "source": [
        "#### Exercise 2 :\n",
        "\n",
        "Standardize the indication  for the absent students. \n",
        "\n",
        "For example replace all absentees notation with  'ABS'"
      ]
    },
    {
      "metadata": {
        "id": "phciZzvCLh3J",
        "colab_type": "code",
        "colab": {
          "base_uri": "https://localhost:8080/",
          "height": 121
        },
        "outputId": "3d0c2965-32b9-4df9-c99f-24548a64d809"
      },
      "cell_type": "code",
      "source": [
        "#### Your Code Here\n",
        "df = df.replace([\"A\", \"AA\", \"AAA\", \"G\", \" AA\"],\"ABS\")\n",
        "print (df.tail())"
      ],
      "execution_count": 7,
      "outputs": [
        {
          "output_type": "stream",
          "text": [
            "          0       1    2    3    4    5    6\n",
            "1016724  65  859657  048  048   53   21   47\n",
            "1016749  65  859683  019  027   26   18   35\n",
            "1016773  65  859708  019  037   37   13   35\n",
            "1016795  65  859730  018  020   25   18   44\n",
            "1016804  65  859739  026  021   19   18   37\n"
          ],
          "name": "stdout"
        }
      ]
    },
    {
      "metadata": {
        "id": "zRjrEs5BLkQT",
        "colab_type": "text"
      },
      "cell_type": "markdown",
      "source": [
        "#### Exercise 3 :\n",
        "\n",
        "Draw a stacked bar plot. Representing regions verus number of students with first class, number of students with second class and number of students with third class. \n",
        "\n",
        "* First class >= 60\n",
        "* Second class >= 50\n",
        "* Third class  >= 40"
      ]
    },
    {
      "metadata": {
        "id": "UNS0jT_5L3p5",
        "colab_type": "code",
        "colab": {
          "base_uri": "https://localhost:8080/",
          "height": 480
        },
        "outputId": "3e7aa5c1-90ec-46a9-b8df-2a8437506954"
      },
      "cell_type": "code",
      "source": [
        "#### Your Code Here\n",
        "\n",
        "import matplotlib.pyplot as plt\n",
        "\n",
        "region_list = df[0].unique().astype(int)\n",
        "first = []\n",
        "second = []\n",
        "third = []\n",
        "\n",
        "for i in range(2,7):\n",
        "  df[i] = df[i].apply(lambda x: 0 if x == 'ABS' else int(x))\n",
        "col_list = list(range(2,7))\n",
        "df['class'] = df[col_list].mean(axis=1)\n",
        "print (df.head())\n",
        "\n",
        "for i in range(len(region_list)):\n",
        "  first.append(df[(df['class'] >=60) & (df[0] == region_list[i])][0].count())\n",
        "  second.append(df[(df['class'] >=50) & (df['class'] <60 ) & (df[0] == region_list[i])][0].count())\n",
        "  third.append(df[(df['class'] >=40) & (df['class'] <50 ) & (df[0] == region_list[i])][0].count())\n",
        "\n",
        "plt.bar(region_list, first, 0.3, color = 'r')\n",
        "plt.bar(region_list, second, 0.3, color = 'b', bottom = first) \n",
        "plt.bar(region_list, third, 0.3, color = 'g', bottom = second)  \n",
        "plt.xlabel('regions')\n",
        "plt.ylabel('number of student')\n",
        "plt.title(' regions verus number of students in class')\n",
        "\n",
        "plt.show()\n",
        "                  \n",
        " "
      ],
      "execution_count": 23,
      "outputs": [
        {
          "output_type": "stream",
          "text": [
            "   0      1   2   3   4   5   6  class\n",
            "0  1  10001  53  36  28  16  44   35.4\n",
            "1  1  10002  58  37  42  35  40   42.4\n",
            "2  1  10003  72  56  71  55  70   64.8\n",
            "3  1  10004  87  64  83  58  65   71.4\n",
            "4  1  10005  59  45  50  35  48   47.4\n"
          ],
          "name": "stdout"
        },
        {
          "output_type": "display_data",
          "data": {
            "image/png": "[encoded data removed]",
            "text/plain": [
              "<matplotlib.figure.Figure at 0x7f0e57cb1978>"
            ]
          },
          "metadata": {
            "tags": []
          }
        }
      ]
    },
    {
      "metadata": {
        "id": "ICAkDgDqGCJQ",
        "colab_type": "text"
      },
      "cell_type": "markdown",
      "source": [
        "### Please answer the questions below to complete the experiment:\n"
      ]
    },
    {
      "metadata": {
        "id": "MXIZsZcPGGLu",
        "colab_type": "code",
        "colab": {}
      },
      "cell_type": "code",
      "source": [
        "#@title How many students has scored more than 60 in four subjects but failed in fifth subject.(Failed candidates are those who have attempted the exam and scored less than 40. ) { run: \"auto\", form-width: \"500px\", display-mode: \"form\" }\n",
        "Answer = \"529492\" #@param [\"529492\", \"403812\", \"934\", \"134\"]\n"
      ],
      "execution_count": 0,
      "outputs": []
    },
    {
      "metadata": {
        "id": "XUhd7UFQGH5E",
        "colab_type": "code",
        "colab": {}
      },
      "cell_type": "code",
      "source": [
        "#@title How was the experiment? { run: \"auto\", form-width: \"500px\", display-mode: \"form\" }\n",
        "Complexity = \"Was Tough, but I did it\" #@param [\"Too Simple, I am wasting time\", \"Good, But Not Challenging for me\", \"Good and Challenging for me\", \"Was Tough, but I did it\", \"Too Difficult for me\"]\n"
      ],
      "execution_count": 0,
      "outputs": []
    },
    {
      "metadata": {
        "id": "k33XJC1FGKYc",
        "colab_type": "code",
        "colab": {}
      },
      "cell_type": "code",
      "source": [
        "#@title If it was very easy, what more you would have liked to have been added? If it was very difficult, what would you have liked to have been removed? { run: \"auto\", display-mode: \"form\" }\n",
        "Additional = \"syntax help for stacked plot\" #@param {type:\"string\"}"
      ],
      "execution_count": 0,
      "outputs": []
    },
    {
      "metadata": {
        "id": "3Loaf6VzGNtx",
        "colab_type": "code",
        "colab": {}
      },
      "cell_type": "code",
      "source": [
        "#@title Can you identify the concepts from the lecture which this experiment covered? { run: \"auto\", vertical-output: true, display-mode: \"form\" }\n",
        "Concepts = \"Yes\" #@param [\"Yes\", \"No\"]"
      ],
      "execution_count": 0,
      "outputs": []
    }
  ]
}