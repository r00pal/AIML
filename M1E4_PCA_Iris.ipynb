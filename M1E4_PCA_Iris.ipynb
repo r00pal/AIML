{
  "nbformat": 4,
  "nbformat_minor": 0,
  "metadata": {
    "colab": {
      "name": "M1E4_PCA-Iris.ipynb",
      "version": "0.3.2",
      "provenance": [],
      "collapsed_sections": [],
      "include_colab_link": true
    },
    "kernelspec": {
      "display_name": "Python 3",
      "language": "python",
      "name": "python3"
    }
  },
  "cells": [
    {
      "cell_type": "markdown",
      "metadata": {
        "id": "view-in-github",
        "colab_type": "text"
      },
      "source": [
        "<a href=\"https://colab.research.google.com/github/roopalJazz/AIML/blob/master/M1E4_PCA_Iris.ipynb\" target=\"_parent\"><img src=\"https://colab.research.google.com/assets/colab-badge.svg\" alt=\"Open In Colab\"/></a>"
      ]
    },
    {
      "metadata": {
        "id": "QFoYb0Vu3xj2",
        "colab_type": "text"
      },
      "cell_type": "markdown",
      "source": [
        "# Advanced Certification in AIML\n",
        "## A Program by IIIT-H and TalentSprint"
      ]
    },
    {
      "metadata": {
        "id": "eH4DRCIdYU-g",
        "colab_type": "text"
      },
      "cell_type": "markdown",
      "source": [
        "The objective of this experiment to understand PCA."
      ]
    },
    {
      "metadata": {
        "id": "tA32BgTAyM4U",
        "colab_type": "code",
        "cellView": "both",
        "outputId": "48966ee5-0bda-4393-bd72-61b3fe8bbca1",
        "colab": {
          "base_uri": "https://localhost:8080/",
          "height": 261
        }
      },
      "cell_type": "code",
      "source": [
        "#@title Experiment Walkthrough\n",
        "#@markdown PCA for IRIS\n",
        "from IPython.display import HTML\n",
        "HTML(\"\"\"<video width='320' height='240' controls> <source src=\"https://cdn.talentsprint.com/talentsprint/archives/sc/aiml/aiml_2018_b7_hyd/experiment_details/pca.mp4\" type=\"video/mp4\"></video>\"\"\")\n"
      ],
      "execution_count": 0,
      "outputs": [
        {
          "output_type": "execute_result",
          "data": {
            "text/html": [
              "<video width='320' height='240' controls> <source src=\"https://cdn.talentsprint.com/talentsprint/archives/sc/aiml/aiml_2018_b7_hyd/experiment_details/pca.mp4\" type=\"video/mp4\"></video>"
            ],
            "text/plain": [
              "<IPython.core.display.HTML object>"
            ]
          },
          "metadata": {
            "tags": []
          },
          "execution_count": 65
        }
      ]
    },
    {
      "metadata": {
        "id": "3VW7qEXuY6L3",
        "colab_type": "text"
      },
      "cell_type": "markdown",
      "source": [
        "### Dataset"
      ]
    },
    {
      "metadata": {
        "id": "4iv6QMD0Y8Hc",
        "colab_type": "text"
      },
      "cell_type": "markdown",
      "source": [
        "#### History\n",
        "\n",
        "This is a multivariate dataset introduced by R.A.Fisher (Father of Modern Statistics) for showcasing linear discriminant analysis. This is arguably the best known dataset in Feature Selection literature.\n",
        "\n",
        "\n",
        "The data set contains 3 classes of 50 instances each, where each class refers to a type of iris plant. One class is linearly separable from the other 2; the latter are NOT linearly separable from each other. "
      ]
    },
    {
      "metadata": {
        "id": "XA_1zVozYYWo",
        "colab_type": "text"
      },
      "cell_type": "markdown",
      "source": [
        "#### Description:\n",
        "The Iris dataset consists of 150 data instances. There are 3 classes (Iris Versicolor, Iris Setosa and Iris Virginica) each have 50 instances. \n",
        "\n",
        "\n",
        "For each flower we have the below data attributes \n",
        "\n",
        "- sepal length in cm\n",
        "- sepal width in cm\n",
        "- petal length in cm\n",
        "- petal width in cm\n",
        "\n",
        "To make our experiment easy we rename the classes  with numbers : \n",
        "\n",
        "    \"0\": setosa\n",
        "    \"1\": versicolor\n",
        "    \"2\": virginica\n",
        "    "
      ]
    },
    {
      "metadata": {
        "id": "Kmrsv7oxZNN3",
        "colab_type": "text"
      },
      "cell_type": "markdown",
      "source": [
        "### Challenges:\n",
        "\n",
        "When we use the data with large number of features or dimensionality, models usually choke because\n",
        "\n",
        "    1. Training time increases exponentially with number of features.\n",
        "    2. Models have increasing risk of overfitting with increasing number of features.\n",
        "    \n",
        "To avoid the above mentioned problems while learning about data analysis, we use simple, well behaved, data that reduces the cognitive load, and makes it easier to debug as we are able to better comprehend the data we are working with.  \n",
        "\n",
        "Hence, this is a good dataset to work on."
      ]
    },
    {
      "metadata": {
        "id": "n95mNFiNZRdp",
        "colab_type": "text"
      },
      "cell_type": "markdown",
      "source": [
        "### Domain Information: \n",
        "\n",
        "Iris Plants are flowering plants with showy flowers. They are very popular among movie directors as it gives excellent background. \n",
        "\n",
        "They are predominantly found in dry, semi-desert, or colder rocky mountainous areas in Europe and Asia. They have long, erect flowering stems and can produce white, yellow, orange, pink, purple, lavender, blue or brown colored flowers. There are 260 to 300 types of iris.\n",
        "\n",
        "![alt text](https://cdn-images-1.medium.com/max/1275/1*7bnLKsChXq94QjtAiRn40w.png)\n",
        "\n",
        "As you could see, flowers have 3 sepals and 3 petals.  The sepals are usually spreading or drop downwards and the petals stand upright, partly behind the sepal bases. However, the length and width of the sepals and petals vary for each type.\n"
      ]
    },
    {
      "metadata": {
        "colab_type": "text",
        "id": "cqX4xyJQjdfy"
      },
      "cell_type": "markdown",
      "source": [
        "### Setup Steps"
      ]
    },
    {
      "metadata": {
        "colab_type": "text",
        "id": "y1eoFE-Ajdfq"
      },
      "cell_type": "markdown",
      "source": [
        "#### Importing the required packages"
      ]
    },
    {
      "metadata": {
        "colab_type": "code",
        "id": "MQ5-Zf7Gjdfn",
        "colab": {}
      },
      "cell_type": "code",
      "source": [
        "from sklearn import datasets\n",
        "from sklearn import model_selection"
      ],
      "execution_count": 0,
      "outputs": []
    },
    {
      "metadata": {
        "colab_type": "code",
        "id": "G66-j8S6jdfk",
        "colab": {}
      },
      "cell_type": "code",
      "source": [
        "from sklearn.decomposition import PCA"
      ],
      "execution_count": 0,
      "outputs": []
    },
    {
      "metadata": {
        "colab_type": "code",
        "id": "n8y1oDXxjdfi",
        "colab": {}
      },
      "cell_type": "code",
      "source": [
        "from sklearn import linear_model"
      ],
      "execution_count": 0,
      "outputs": []
    },
    {
      "metadata": {
        "colab_type": "text",
        "id": "UcS-A5Bfjdfi"
      },
      "cell_type": "markdown",
      "source": [
        "Loading iris data from sklearn"
      ]
    },
    {
      "metadata": {
        "colab_type": "code",
        "id": "Rciz2q-wjdff",
        "colab": {}
      },
      "cell_type": "code",
      "source": [
        "data=datasets.load_iris()"
      ],
      "execution_count": 0,
      "outputs": []
    },
    {
      "metadata": {
        "colab_type": "text",
        "id": "eebHIV-6jdff"
      },
      "cell_type": "markdown",
      "source": [
        "Storing the data in a variable"
      ]
    },
    {
      "metadata": {
        "colab_type": "code",
        "id": "1iAwqQoqjdfd",
        "colab": {}
      },
      "cell_type": "code",
      "source": [
        "dataArr=data.data"
      ],
      "execution_count": 0,
      "outputs": []
    },
    {
      "metadata": {
        "colab_type": "code",
        "outputId": "22f7dccf-e86e-4159-d595-7bbae9a38c81",
        "id": "xYIc6gnBjdfY",
        "colab": {
          "base_uri": "https://localhost:8080/",
          "height": 35
        }
      },
      "cell_type": "code",
      "source": [
        "type(dataArr)"
      ],
      "execution_count": 0,
      "outputs": [
        {
          "output_type": "execute_result",
          "data": {
            "text/plain": [
              "numpy.ndarray"
            ]
          },
          "metadata": {
            "tags": []
          },
          "execution_count": 10
        }
      ]
    },
    {
      "metadata": {
        "colab_type": "text",
        "id": "zeURIPsyjdfW"
      },
      "cell_type": "markdown",
      "source": [
        "Let us try to check the type of the data"
      ]
    },
    {
      "metadata": {
        "colab_type": "code",
        "outputId": "70c4e0e5-da78-41ba-baee-6e1aaf3bb5db",
        "id": "la7XZRIfjdfS",
        "colab": {
          "base_uri": "https://localhost:8080/",
          "height": 35
        }
      },
      "cell_type": "code",
      "source": [
        "type(data)"
      ],
      "execution_count": 0,
      "outputs": [
        {
          "output_type": "execute_result",
          "data": {
            "text/plain": [
              "sklearn.utils.Bunch"
            ]
          },
          "metadata": {
            "tags": []
          },
          "execution_count": 11
        }
      ]
    },
    {
      "metadata": {
        "colab_type": "text",
        "id": "EIn-Piv0jdfS"
      },
      "cell_type": "markdown",
      "source": [
        "Let us see what are features present in the dataset"
      ]
    },
    {
      "metadata": {
        "colab_type": "code",
        "id": "-GQ5vMqNjdfQ",
        "colab": {}
      },
      "cell_type": "code",
      "source": [
        "data.feature_names"
      ],
      "execution_count": 0,
      "outputs": []
    },
    {
      "metadata": {
        "colab_type": "code",
        "outputId": "de4f2274-33f7-4eb4-df2c-81220a0f3eac",
        "id": "vROv-lGGjdfN",
        "colab": {
          "base_uri": "https://localhost:8080/",
          "height": 35
        }
      },
      "cell_type": "code",
      "source": [
        "data.keys()"
      ],
      "execution_count": 0,
      "outputs": [
        {
          "output_type": "execute_result",
          "data": {
            "text/plain": [
              "dict_keys(['data', 'target', 'target_names', 'DESCR', 'feature_names', 'filename'])"
            ]
          },
          "metadata": {
            "tags": []
          },
          "execution_count": 13
        }
      ]
    },
    {
      "metadata": {
        "colab_type": "text",
        "id": "YDPeJEjtjdfM"
      },
      "cell_type": "markdown",
      "source": [
        "Splitting the data into train and test  sets"
      ]
    },
    {
      "metadata": {
        "colab_type": "code",
        "id": "3lGKWkoajdfK",
        "colab": {}
      },
      "cell_type": "code",
      "source": [
        "trainData,testData,labelTrain,labelTest=model_selection.train_test_split(dataArr,data.target)"
      ],
      "execution_count": 0,
      "outputs": []
    },
    {
      "metadata": {
        "colab_type": "text",
        "id": "sOOWRLCVjdfI"
      },
      "cell_type": "markdown",
      "source": [
        "Now let us see what is the shape of the training and testing sets"
      ]
    },
    {
      "metadata": {
        "colab_type": "code",
        "outputId": "df7cda7a-6d45-4aa8-beb3-4b95ef5375e9",
        "id": "hkQzDw6njdfE",
        "colab": {
          "base_uri": "https://localhost:8080/",
          "height": 35
        }
      },
      "cell_type": "code",
      "source": [
        "trainData.shape,testData.shape, dataArr.shape"
      ],
      "execution_count": 0,
      "outputs": [
        {
          "output_type": "execute_result",
          "data": {
            "text/plain": [
              "((112, 4), (38, 4), (150, 4))"
            ]
          },
          "metadata": {
            "tags": []
          },
          "execution_count": 15
        }
      ]
    },
    {
      "metadata": {
        "colab_type": "text",
        "id": "hzQp8mQXjdfD"
      },
      "cell_type": "markdown",
      "source": [
        "Now, let us try to reduce the dimenssion of data from 4D to 3D using PCA"
      ]
    },
    {
      "metadata": {
        "colab_type": "code",
        "id": "WXbc114ejdfB",
        "colab": {}
      },
      "cell_type": "code",
      "source": [
        "pca=PCA(n_components=3)"
      ],
      "execution_count": 0,
      "outputs": []
    },
    {
      "metadata": {
        "colab_type": "code",
        "id": "P1nHOwVTjde-",
        "colab": {}
      },
      "cell_type": "code",
      "source": [
        "dataReduced=pca.fit_transform(dataArr)"
      ],
      "execution_count": 0,
      "outputs": []
    },
    {
      "metadata": {
        "colab_type": "code",
        "outputId": "24acb903-9a64-4c06-f71b-d3e192630a57",
        "id": "mkSMlyf5jde7",
        "colab": {
          "base_uri": "https://localhost:8080/",
          "height": 35
        }
      },
      "cell_type": "code",
      "source": [
        "type(dataReduced)"
      ],
      "execution_count": 0,
      "outputs": [
        {
          "output_type": "execute_result",
          "data": {
            "text/plain": [
              "numpy.ndarray"
            ]
          },
          "metadata": {
            "tags": []
          },
          "execution_count": 18
        }
      ]
    },
    {
      "metadata": {
        "colab_type": "text",
        "id": "TXkTcJf6jde6"
      },
      "cell_type": "markdown",
      "source": [
        "#### Plotting the data after its dimensions are reduced"
      ]
    },
    {
      "metadata": {
        "colab_type": "code",
        "id": "JpdyLMwFjde4",
        "colab": {}
      },
      "cell_type": "code",
      "source": [
        "# Plotting the data\n",
        "import matplotlib.pyplot as plt\n",
        "from mpl_toolkits.mplot3d import Axes3D\n",
        "\n"
      ],
      "execution_count": 0,
      "outputs": []
    },
    {
      "metadata": {
        "colab_type": "code",
        "outputId": "f07380ff-feb0-4b13-ba14-e0dad22cede1",
        "id": "hHDNVjsnjde1",
        "colab": {
          "base_uri": "https://localhost:8080/",
          "height": 464
        }
      },
      "cell_type": "code",
      "source": [
        "fig= plt.figure(1,figsize=(8,6))\n",
        "axes=Axes3D(fig, elev=-150, azim=110)\n",
        "axes.scatter(dataReduced[:, 0], dataReduced[:, 1], dataReduced[:, 2], c=data.target,\n",
        "           cmap=plt.cm.Set1, edgecolor='k', s=40)\n",
        "axes.set_title(\"First three principal components\")\n",
        "axes.set_xlabel('1st principal component')\n",
        "axes.set_ylabel('2nd principal component')\n",
        "axes.set_zlabel('3rd principal component')\n",
        "axes.set_xticklabels([])\n",
        "axes.set_yticklabels([])\n",
        "axes.set_zticklabels([])\n",
        "\n",
        "plt.show()"
      ],
      "execution_count": 0,
      "outputs": [
        {
          "output_type": "display_data",
          "data": {
            "image/png": "[encoded data removed]",
            "text/plain": [
              "<Figure size 576x432 with 1 Axes>"
            ]
          },
          "metadata": {
            "tags": []
          }
        }
      ]
    },
    {
      "metadata": {
        "colab_type": "text",
        "id": "d-DXt-XDjdez"
      },
      "cell_type": "markdown",
      "source": [
        "Now let us try to train various models using the data after its dimensions are reduced"
      ]
    },
    {
      "metadata": {
        "colab_type": "code",
        "id": "3Nt2uNZLjdex",
        "colab": {}
      },
      "cell_type": "code",
      "source": [
        "trainDataRed,testDataRed=model_selection.train_test_split(dataReduced)"
      ],
      "execution_count": 0,
      "outputs": []
    },
    {
      "metadata": {
        "colab_type": "text",
        "id": "AyXyivKbjdev"
      },
      "cell_type": "markdown",
      "source": [
        "#### Applying Linear classifier on the original data"
      ]
    },
    {
      "metadata": {
        "colab_type": "code",
        "outputId": "7fc65b30-c2b8-4490-a63e-4fdf7300ae11",
        "id": "aWHGTohqjdet",
        "colab": {
          "base_uri": "https://localhost:8080/",
          "height": 35
        }
      },
      "cell_type": "code",
      "source": [
        "clf = linear_model.SGDClassifier(max_iter=1000, tol=1e-3)\n",
        "clf.fit(trainData,labelTrain)\n",
        "clf.score(testData,labelTest)"
      ],
      "execution_count": 0,
      "outputs": [
        {
          "output_type": "execute_result",
          "data": {
            "text/plain": [
              "0.9736842105263158"
            ]
          },
          "metadata": {
            "tags": []
          },
          "execution_count": 23
        }
      ]
    },
    {
      "metadata": {
        "colab_type": "text",
        "id": "TIM7dQnQjder"
      },
      "cell_type": "markdown",
      "source": [
        "#### Applying Linear classifier on the reduced data"
      ]
    },
    {
      "metadata": {
        "colab_type": "code",
        "outputId": "8a310ac0-5a28-472c-d8cf-bfe353e8326f",
        "id": "mMkcHrJhjden",
        "colab": {
          "base_uri": "https://localhost:8080/",
          "height": 35
        }
      },
      "cell_type": "code",
      "source": [
        "clfPCA = linear_model.SGDClassifier(max_iter=1000, tol=1e-3)\n",
        "clfPCA.fit(trainDataRed,labelTrain)\n",
        "clfPCA.score(testDataRed,labelTest)"
      ],
      "execution_count": 0,
      "outputs": [
        {
          "output_type": "execute_result",
          "data": {
            "text/plain": [
              "0.34210526315789475"
            ]
          },
          "metadata": {
            "tags": []
          },
          "execution_count": 24
        }
      ]
    },
    {
      "metadata": {
        "colab_type": "text",
        "id": "-kVy4iEFjdel"
      },
      "cell_type": "markdown",
      "source": [
        "#### Applying KNN on the original data"
      ]
    },
    {
      "metadata": {
        "colab_type": "code",
        "outputId": "1ee7a8c1-1edc-48f6-d7d1-f53ae662ea23",
        "id": "EMi2y7XWjdei",
        "colab": {
          "base_uri": "https://localhost:8080/",
          "height": 35
        }
      },
      "cell_type": "code",
      "source": [
        "from sklearn.neighbors import KNeighborsClassifier\n",
        "clf2 = KNeighborsClassifier(n_neighbors=3)\n",
        "clf2.fit(trainData,labelTrain)\n",
        "clf2.score(testData,labelTest)"
      ],
      "execution_count": 0,
      "outputs": [
        {
          "output_type": "execute_result",
          "data": {
            "text/plain": [
              "0.9210526315789473"
            ]
          },
          "metadata": {
            "tags": []
          },
          "execution_count": 25
        }
      ]
    },
    {
      "metadata": {
        "colab_type": "text",
        "id": "E0VuKAfljdeh"
      },
      "cell_type": "markdown",
      "source": [
        "#### Applying KNN on reduced data"
      ]
    },
    {
      "metadata": {
        "colab_type": "code",
        "outputId": "ca51fa06-d20c-4f46-f71b-b0e35bb5f571",
        "id": "8Rw0P2ZEjdeb",
        "colab": {
          "base_uri": "https://localhost:8080/",
          "height": 35
        }
      },
      "cell_type": "code",
      "source": [
        "clf2PCA = KNeighborsClassifier(n_neighbors=3)\n",
        "clf2PCA.fit(trainDataRed,labelTrain)\n",
        "clf2PCA.score(testDataRed,labelTest)"
      ],
      "execution_count": 0,
      "outputs": [
        {
          "output_type": "execute_result",
          "data": {
            "text/plain": [
              "0.34210526315789475"
            ]
          },
          "metadata": {
            "tags": []
          },
          "execution_count": 26
        }
      ]
    }
  ]
}